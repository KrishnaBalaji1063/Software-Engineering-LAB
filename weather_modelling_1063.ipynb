{
  "nbformat": 4,
  "nbformat_minor": 0,
  "metadata": {
    "colab": {
      "provenance": []
    },
    "kernelspec": {
      "name": "python3",
      "display_name": "Python 3"
    },
    "language_info": {
      "name": "python"
    }
  },
  "cells": [
    {
      "cell_type": "code",
      "source": [
        "import numpy as np\n",
        "import matplotlib.pyplot as plt\n",
        "\n",
        "def find_roots(a, b, c):\n",
        "    delta = b**2 - 4*a*c\n",
        "    if delta > 0:\n",
        "        return ((-b + np.sqrt(delta)) / (2 * a), (-b - np.sqrt(delta)) / (2 * a))\n",
        "    elif delta == 0:\n",
        "        return (-b / (2 * a),)\n",
        "    else:\n",
        "        return None\n",
        "\n",
        "def visualize_quadratic(a, b, c):\n",
        "    x_vals = np.linspace(-10, 10, 500)\n",
        "    y_vals = a * x_vals**2 + b * x_vals + c\n",
        "    plt.figure(figsize=(9, 6))\n",
        "    plt.plot(x_vals, y_vals, label=f\"{a}x² + {b}x + {c}\")\n",
        "    plt.axhline(0, color='gray', linestyle='--', linewidth=0.8)\n",
        "    plt.axvline(0, color='gray', linestyle='--', linewidth=0.8)\n",
        "    plt.title(\"Graph of Quadratic Function\")\n",
        "    plt.xlabel(\"X\")\n",
        "    plt.ylabel(\"Y\")\n",
        "    plt.legend()\n",
        "    plt.grid(visible=True, alpha=0.6)\n",
        "    plt.show()\n",
        "\n",
        "def handle_input(choice):\n",
        "    if choice == 1:\n",
        "        coefficients = (1, -3, 2)\n",
        "    elif choice == 2:\n",
        "        coefficients = tuple(map(float, input(\"Enter values for a, b, c: \").split()))\n",
        "    elif choice == 3:\n",
        "        coefficients = (2, -4, -6)\n",
        "        print(f\"Using: {coefficients}\")\n",
        "    elif choice == 4:\n",
        "        multiple_sets = [(1, -3, 2), (1, 0, -4), (2, -4, -6)]\n",
        "        for coeffs in multiple_sets:\n",
        "            print(f\"Solving for: {coeffs}\")\n",
        "            solve_and_show(*coeffs)\n",
        "        return\n",
        "    elif choice == 5:\n",
        "        file_name = input(\"Enter file path: \").strip()\n",
        "        try:\n",
        "            coeffs_list = np.loadtxt(file_name, dtype=float)\n",
        "            if coeffs_list.ndim == 1:\n",
        "                coeffs_list = [coeffs_list]\n",
        "            for coeffs in coeffs_list:\n",
        "                if len(coeffs) == 3:\n",
        "                    print(f\"Solving for: {tuple(coeffs)}\")\n",
        "                    solve_and_show(*coeffs)\n",
        "                else:\n",
        "                    print(f\"Skipping: {coeffs}\")\n",
        "            return\n",
        "        except Exception as e:\n",
        "            print(f\"File error: {e}\")\n",
        "            return\n",
        "    else:\n",
        "        print(\"Invalid option.\")\n",
        "        return\n",
        "\n",
        "    solve_and_show(*coefficients)\n",
        "\n",
        "def solve_and_show(a, b, c):\n",
        "    print(f\"Equation: {a}x² + {b}x + {c} = 0\")\n",
        "    roots = find_roots(a, b, c)\n",
        "    if roots:\n",
        "        print(f\"Roots: {roots}\")\n",
        "    else:\n",
        "        print(\"No real roots.\")\n",
        "    visualize_quadratic(a, b, c)\n",
        "\n",
        "if __name__ == \"__main__\":\n",
        "    print(\"Choose an option:\")\n",
        "    print(\"1. Hardcoded values\")\n",
        "    print(\"2. Enter values manually\")\n",
        "    print(\"3. Single example\")\n",
        "    print(\"4. Multiple examples\")\n",
        "    print(\"5. File input\")\n",
        "    try:\n",
        "        user_choice = int(input(\"Your choice: \"))\n",
        "        handle_input(user_choice)\n",
        "    except ValueError:\n",
        "        print(\"Please enter a number between 1 and 5.\")\n"
      ],
      "metadata": {
        "colab": {
          "base_uri": "https://localhost:8080/"
        },
        "id": "qf2P-O3chEkZ",
        "outputId": "7e5f18b8-ef9a-4ebf-c404-fc3b1486b561"
      },
      "execution_count": null,
      "outputs": [
        {
          "output_type": "stream",
          "name": "stdout",
          "text": [
            "Choose an option:\n",
            "1. Hardcoded values\n",
            "2. Enter values manually\n",
            "3. Single example\n",
            "4. Multiple examples\n",
            "5. File input\n",
            "Your choice: 6\n",
            "Invalid option.\n"
          ]
        }
      ]
    }
  ]
}