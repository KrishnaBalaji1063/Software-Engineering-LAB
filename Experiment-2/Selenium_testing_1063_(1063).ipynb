{
  "nbformat": 4,
  "nbformat_minor": 0,
  "metadata": {
    "colab": {
      "provenance": []
    },
    "kernelspec": {
      "name": "python3",
      "display_name": "Python 3"
    },
    "language_info": {
      "name": "python"
    }
  },
  "cells": [
    {
      "cell_type": "code",
      "execution_count": null,
      "metadata": {
        "colab": {
          "base_uri": "https://localhost:8080/"
        },
        "id": "jz6vVBlPwFQD",
        "outputId": "715e4692-78a0-4125-8eae-5561f5da39ee"
      },
      "outputs": [
        {
          "output_type": "stream",
          "name": "stdout",
          "text": [
            "--2024-12-23 08:46:32--  https://edgedl.me.gvt1.com/edgedl/chrome/chrome-for-testing/131.0.6778.139/linux64/chromedriver-linux64.zip\n",
            "Resolving edgedl.me.gvt1.com (edgedl.me.gvt1.com)... 34.104.35.123, 2600:1900:4110:86f::\n",
            "Connecting to edgedl.me.gvt1.com (edgedl.me.gvt1.com)|34.104.35.123|:443... connected.\n",
            "HTTP request sent, awaiting response... 302 Found\n",
            "Location: https://storage.googleapis.com/chrome-for-testing-public/131.0.6778.139/linux64/chromedriver-linux64.zip [following]\n",
            "--2024-12-23 08:46:33--  https://storage.googleapis.com/chrome-for-testing-public/131.0.6778.139/linux64/chromedriver-linux64.zip\n",
            "Resolving storage.googleapis.com (storage.googleapis.com)... 173.194.217.207, 108.177.11.207, 108.177.12.207, ...\n",
            "Connecting to storage.googleapis.com (storage.googleapis.com)|173.194.217.207|:443... connected.\n",
            "HTTP request sent, awaiting response... 200 OK\n",
            "Length: 9930510 (9.5M) [application/zip]\n",
            "Saving to: ‘chromedriver-linux64.zip’\n",
            "\n",
            "chromedriver-linux6 100%[===================>]   9.47M  --.-KB/s    in 0.05s   \n",
            "\n",
            "2024-12-23 08:46:33 (194 MB/s) - ‘chromedriver-linux64.zip’ saved [9930510/9930510]\n",
            "\n",
            "Archive:  chromedriver-linux64.zip\n",
            "  inflating: /usr/local/bin/chromedriver-linux64/LICENSE.chromedriver  \n",
            "  inflating: /usr/local/bin/chromedriver-linux64/THIRD_PARTY_NOTICES.chromedriver  \n",
            "  inflating: /usr/local/bin/chromedriver-linux64/chromedriver  \n"
          ]
        }
      ],
      "source": [
        "!wget https://edgedl.me.gvt1.com/edgedl/chrome/chrome-for-testing/131.0.6778.139/linux64/chromedriver-linux64.zip\n",
        "!unzip chromedriver-linux64.zip -d /usr/local/bin/\n",
        "!chmod +x /usr/local/bin/chromedriver-linux64/chromedriver"
      ]
    },
    {
      "cell_type": "code",
      "source": [
        "!apt-get purge google-chrome-stable -y\n",
        "!rm google-chrome-stable_current_amd64.deb\n",
        "!wget https://dl.google.com/linux/direct/google-chrome-stable_current_amd64.deb\n",
        "!dpkg -i google-chrome-stable_current_amd64.deb || apt-get -f install -y"
      ],
      "metadata": {
        "colab": {
          "base_uri": "https://localhost:8080/"
        },
        "id": "cUOaPJyuwHVS",
        "outputId": "b280a855-1ed6-4e60-d36c-78e3e8785eca"
      },
      "execution_count": null,
      "outputs": [
        {
          "output_type": "stream",
          "name": "stdout",
          "text": [
            "Reading package lists... Done\n",
            "Building dependency tree... Done\n",
            "Reading state information... Done\n",
            "E: Unable to locate package google-chrome-stable\n",
            "rm: cannot remove 'google-chrome-stable_current_amd64.deb': No such file or directory\n",
            "--2024-12-23 08:46:36--  https://dl.google.com/linux/direct/google-chrome-stable_current_amd64.deb\n",
            "Resolving dl.google.com (dl.google.com)... 173.194.212.190, 173.194.212.136, 173.194.212.93, ...\n",
            "Connecting to dl.google.com (dl.google.com)|173.194.212.190|:443... connected.\n",
            "HTTP request sent, awaiting response... 200 OK\n",
            "Length: 112770956 (108M) [application/x-debian-package]\n",
            "Saving to: ‘google-chrome-stable_current_amd64.deb’\n",
            "\n",
            "google-chrome-stabl 100%[===================>] 107.55M   256MB/s    in 0.4s    \n",
            "\n",
            "2024-12-23 08:46:37 (256 MB/s) - ‘google-chrome-stable_current_amd64.deb’ saved [112770956/112770956]\n",
            "\n",
            "Selecting previously unselected package google-chrome-stable.\n",
            "(Reading database ... 123634 files and directories currently installed.)\n",
            "Preparing to unpack google-chrome-stable_current_amd64.deb ...\n",
            "Unpacking google-chrome-stable (131.0.6778.204-1) ...\n",
            "\u001b[1mdpkg:\u001b[0m dependency problems prevent configuration of google-chrome-stable:\n",
            " google-chrome-stable depends on libvulkan1; however:\n",
            "  Package libvulkan1 is not installed.\n",
            "\n",
            "\u001b[1mdpkg:\u001b[0m error processing package google-chrome-stable (--install):\n",
            " dependency problems - leaving unconfigured\n",
            "Processing triggers for man-db (2.10.2-1) ...\n",
            "Errors were encountered while processing:\n",
            " google-chrome-stable\n",
            "Reading package lists... Done\n",
            "Building dependency tree... Done\n",
            "Reading state information... Done\n",
            "Correcting dependencies... Done\n",
            "The following additional packages will be installed:\n",
            "  libvulkan1 mesa-vulkan-drivers\n",
            "The following NEW packages will be installed:\n",
            "  libvulkan1 mesa-vulkan-drivers\n",
            "0 upgraded, 2 newly installed, 0 to remove and 49 not upgraded.\n",
            "1 not fully installed or removed.\n",
            "Need to get 10.9 MB of archives.\n",
            "After this operation, 51.3 MB of additional disk space will be used.\n",
            "Get:1 http://archive.ubuntu.com/ubuntu jammy/main amd64 libvulkan1 amd64 1.3.204.1-2 [128 kB]\n",
            "Get:2 http://archive.ubuntu.com/ubuntu jammy-updates/main amd64 mesa-vulkan-drivers amd64 23.2.1-1ubuntu3.1~22.04.3 [10.7 MB]\n",
            "Fetched 10.9 MB in 0s (27.6 MB/s)\n",
            "Selecting previously unselected package libvulkan1:amd64.\n",
            "(Reading database ... 123751 files and directories currently installed.)\n",
            "Preparing to unpack .../libvulkan1_1.3.204.1-2_amd64.deb ...\n",
            "Unpacking libvulkan1:amd64 (1.3.204.1-2) ...\n",
            "Selecting previously unselected package mesa-vulkan-drivers:amd64.\n",
            "Preparing to unpack .../mesa-vulkan-drivers_23.2.1-1ubuntu3.1~22.04.3_amd64.deb ...\n",
            "Unpacking mesa-vulkan-drivers:amd64 (23.2.1-1ubuntu3.1~22.04.3) ...\n",
            "Setting up libvulkan1:amd64 (1.3.204.1-2) ...\n",
            "Setting up mesa-vulkan-drivers:amd64 (23.2.1-1ubuntu3.1~22.04.3) ...\n",
            "Setting up google-chrome-stable (131.0.6778.204-1) ...\n",
            "update-alternatives: using /usr/bin/google-chrome-stable to provide /usr/bin/x-www-browser (x-www-browser) in auto mode\n",
            "update-alternatives: using /usr/bin/google-chrome-stable to provide /usr/bin/gnome-www-browser (gnome-www-browser) in auto mode\n",
            "update-alternatives: using /usr/bin/google-chrome-stable to provide /usr/bin/google-chrome (google-chrome) in auto mode\n",
            "Processing triggers for libc-bin (2.35-0ubuntu3.4) ...\n",
            "/sbin/ldconfig.real: /usr/local/lib/libtcm_debug.so.1 is not a symbolic link\n",
            "\n",
            "/sbin/ldconfig.real: /usr/local/lib/libur_loader.so.0 is not a symbolic link\n",
            "\n",
            "/sbin/ldconfig.real: /usr/local/lib/libhwloc.so.15 is not a symbolic link\n",
            "\n",
            "/sbin/ldconfig.real: /usr/local/lib/libumf.so.0 is not a symbolic link\n",
            "\n",
            "/sbin/ldconfig.real: /usr/local/lib/libtbbmalloc_proxy.so.2 is not a symbolic link\n",
            "\n",
            "/sbin/ldconfig.real: /usr/local/lib/libtbbbind_2_0.so.3 is not a symbolic link\n",
            "\n",
            "/sbin/ldconfig.real: /usr/local/lib/libtbbbind.so.3 is not a symbolic link\n",
            "\n",
            "/sbin/ldconfig.real: /usr/local/lib/libtbbmalloc.so.2 is not a symbolic link\n",
            "\n",
            "/sbin/ldconfig.real: /usr/local/lib/libtbb.so.12 is not a symbolic link\n",
            "\n",
            "/sbin/ldconfig.real: /usr/local/lib/libtbbbind_2_5.so.3 is not a symbolic link\n",
            "\n",
            "/sbin/ldconfig.real: /usr/local/lib/libtcm.so.1 is not a symbolic link\n",
            "\n",
            "/sbin/ldconfig.real: /usr/local/lib/libur_adapter_level_zero.so.0 is not a symbolic link\n",
            "\n",
            "/sbin/ldconfig.real: /usr/local/lib/libur_adapter_opencl.so.0 is not a symbolic link\n",
            "\n"
          ]
        }
      ]
    },
    {
      "cell_type": "code",
      "source": [
        "!which google-chrome\n",
        "!google-chrome --version\n",
        "!unzip chromedriver-linux64.zip -d /usr/local/bin/\n",
        "!chmod +x /usr/local/bin/chromedriver-linux64/chromedriver\n",
        "!pip install webdriver-manager"
      ],
      "metadata": {
        "colab": {
          "base_uri": "https://localhost:8080/"
        },
        "id": "0xW_BhjywMgS",
        "outputId": "c524b501-3222-4a7a-ee15-7de344d0e7c8"
      },
      "execution_count": null,
      "outputs": [
        {
          "output_type": "stream",
          "name": "stdout",
          "text": [
            "/usr/bin/google-chrome\n",
            "Google Chrome 131.0.6778.204 \n",
            "Archive:  chromedriver-linux64.zip\n",
            "replace /usr/local/bin/chromedriver-linux64/LICENSE.chromedriver? [y]es, [n]o, [A]ll, [N]one, [r]ename: y\n",
            "  inflating: /usr/local/bin/chromedriver-linux64/LICENSE.chromedriver  \n",
            "replace /usr/local/bin/chromedriver-linux64/THIRD_PARTY_NOTICES.chromedriver? [y]es, [n]o, [A]ll, [N]one, [r]ename: y\n",
            "  inflating: /usr/local/bin/chromedriver-linux64/THIRD_PARTY_NOTICES.chromedriver  \n",
            "replace /usr/local/bin/chromedriver-linux64/chromedriver? [y]es, [n]o, [A]ll, [N]one, [r]ename: y\n",
            "  inflating: /usr/local/bin/chromedriver-linux64/chromedriver  \n",
            "Requirement already satisfied: webdriver-manager in /usr/local/lib/python3.10/dist-packages (4.0.2)\n",
            "Requirement already satisfied: requests in /usr/local/lib/python3.10/dist-packages (from webdriver-manager) (2.32.3)\n",
            "Requirement already satisfied: python-dotenv in /usr/local/lib/python3.10/dist-packages (from webdriver-manager) (1.0.1)\n",
            "Requirement already satisfied: packaging in /usr/local/lib/python3.10/dist-packages (from webdriver-manager) (24.2)\n",
            "Requirement already satisfied: charset-normalizer<4,>=2 in /usr/local/lib/python3.10/dist-packages (from requests->webdriver-manager) (3.4.0)\n",
            "Requirement already satisfied: idna<4,>=2.5 in /usr/local/lib/python3.10/dist-packages (from requests->webdriver-manager) (3.10)\n",
            "Requirement already satisfied: urllib3<3,>=1.21.1 in /usr/local/lib/python3.10/dist-packages (from requests->webdriver-manager) (2.2.3)\n",
            "Requirement already satisfied: certifi>=2017.4.17 in /usr/local/lib/python3.10/dist-packages (from requests->webdriver-manager) (2024.12.14)\n"
          ]
        }
      ]
    },
    {
      "cell_type": "code",
      "source": [
        "pip install selenium\n"
      ],
      "metadata": {
        "colab": {
          "base_uri": "https://localhost:8080/"
        },
        "id": "8CKqSh0vxhXm",
        "outputId": "e7151b58-f5ec-44ea-a5c4-c69a46999a63"
      },
      "execution_count": null,
      "outputs": [
        {
          "output_type": "stream",
          "name": "stdout",
          "text": [
            "Requirement already satisfied: selenium in /usr/local/lib/python3.10/dist-packages (4.27.1)\n",
            "Requirement already satisfied: urllib3<3,>=1.26 in /usr/local/lib/python3.10/dist-packages (from urllib3[socks]<3,>=1.26->selenium) (2.2.3)\n",
            "Requirement already satisfied: trio~=0.17 in /usr/local/lib/python3.10/dist-packages (from selenium) (0.27.0)\n",
            "Requirement already satisfied: trio-websocket~=0.9 in /usr/local/lib/python3.10/dist-packages (from selenium) (0.11.1)\n",
            "Requirement already satisfied: certifi>=2021.10.8 in /usr/local/lib/python3.10/dist-packages (from selenium) (2024.12.14)\n",
            "Requirement already satisfied: typing_extensions~=4.9 in /usr/local/lib/python3.10/dist-packages (from selenium) (4.12.2)\n",
            "Requirement already satisfied: websocket-client~=1.8 in /usr/local/lib/python3.10/dist-packages (from selenium) (1.8.0)\n",
            "Requirement already satisfied: attrs>=23.2.0 in /usr/local/lib/python3.10/dist-packages (from trio~=0.17->selenium) (24.3.0)\n",
            "Requirement already satisfied: sortedcontainers in /usr/local/lib/python3.10/dist-packages (from trio~=0.17->selenium) (2.4.0)\n",
            "Requirement already satisfied: idna in /usr/local/lib/python3.10/dist-packages (from trio~=0.17->selenium) (3.10)\n",
            "Requirement already satisfied: outcome in /usr/local/lib/python3.10/dist-packages (from trio~=0.17->selenium) (1.3.0.post0)\n",
            "Requirement already satisfied: sniffio>=1.3.0 in /usr/local/lib/python3.10/dist-packages (from trio~=0.17->selenium) (1.3.1)\n",
            "Requirement already satisfied: exceptiongroup in /usr/local/lib/python3.10/dist-packages (from trio~=0.17->selenium) (1.2.2)\n",
            "Requirement already satisfied: wsproto>=0.14 in /usr/local/lib/python3.10/dist-packages (from trio-websocket~=0.9->selenium) (1.2.0)\n",
            "Requirement already satisfied: pysocks!=1.5.7,<2.0,>=1.5.6 in /usr/local/lib/python3.10/dist-packages (from urllib3[socks]<3,>=1.26->selenium) (1.7.1)\n",
            "Requirement already satisfied: h11<1,>=0.9.0 in /usr/local/lib/python3.10/dist-packages (from wsproto>=0.14->trio-websocket~=0.9->selenium) (0.14.0)\n"
          ]
        }
      ]
    },
    {
      "cell_type": "code",
      "source": [
        "from selenium.webdriver.chrome.options import Options\n",
        "\n",
        "# Create an instance of Options\n",
        "chrome_options = Options()\n",
        "\n",
        "# Now you can add arguments to chrome_options\n",
        "chrome_options.add_argument(\"--headless\")\n",
        "chrome_options.add_argument(\"--disable-gpu\")  # Disable GPU for headless mode\n",
        "chrome_options.add_argument(\"--no-sandbox\")  # Overcome system-level sandboxing\n",
        "chrome_options.add_argument(\"--disable-dev-shm-usage\")  # Use shared memory"
      ],
      "metadata": {
        "id": "2kv0IeyvyDBv"
      },
      "execution_count": null,
      "outputs": []
    },
    {
      "cell_type": "code",
      "source": [
        "from selenium import webdriver\n",
        "from selenium.webdriver.common.by import By\n",
        "from selenium.webdriver.common.keys import Keys\n",
        "import time\n",
        "from selenium.webdriver.chrome.service import Service\n",
        "from selenium.webdriver.chrome.options import Options  # Import Options\n",
        "from webdriver_manager.chrome import ChromeDriverManager # Import ChromeDriverManager\n",
        "from selenium.webdriver.support.ui import WebDriverWait\n",
        "from selenium.webdriver.support import expected_conditions as EC\n",
        "from selenium.common.exceptions import TimeoutException"
      ],
      "metadata": {
        "id": "HsSfzUUwyHLX"
      },
      "execution_count": null,
      "outputs": []
    },
    {
      "cell_type": "code",
      "source": [
        "import os\n",
        "os.environ[\"PATH\"] += \":/usr/local/bin/chromedriver-linux64/chromedriver\""
      ],
      "metadata": {
        "id": "D4iXWNgkyMKY"
      },
      "execution_count": null,
      "outputs": []
    },
    {
      "cell_type": "code",
      "source": [
        "# Install Chrome and the appropriate version of chromedriver\n",
        "!apt-get update # Update the apt-get package list\n",
        "!apt install -y chromium-chromedriver # Install Chromium and its corresponding chromedriver\n",
        "!cp /usr/lib/chromium-browser/chromedriver /usr/bin # Copy chromedriver to the correct directory\n",
        "\n",
        "# Install necessary Python libraries\n",
        "!pip install selenium\n",
        "\n",
        "# Import necessary libraries\n",
        "import sys\n",
        "from selenium import webdriver\n",
        "from selenium.webdriver.chrome.service import Service\n",
        "from selenium.webdriver.common.by import By\n",
        "from selenium.webdriver.chrome.options import Options\n",
        "\n",
        "# Set up the WebDriver\n",
        "chrome_options = Options()\n",
        "chrome_options.add_argument('--headless')  # Run in headless mode (without opening a browser window)\n",
        "chrome_options.add_argument('--no-sandbox')\n",
        "chrome_options.add_argument('--disable-dev-shm-usage')\n",
        "\n",
        "driver = webdriver.Chrome(options=chrome_options)\n",
        "\n",
        "# Ensure you're running your Selenium code after this setup."
      ],
      "metadata": {
        "colab": {
          "base_uri": "https://localhost:8080/"
        },
        "id": "yMBoRsdqysNJ",
        "outputId": "bed49338-b9ec-48f1-8869-60a019804ea6"
      },
      "execution_count": null,
      "outputs": [
        {
          "output_type": "stream",
          "name": "stdout",
          "text": [
            "\r0% [Working]\r            \rHit:1 http://archive.ubuntu.com/ubuntu jammy InRelease\n",
            "\r0% [Connecting to security.ubuntu.com (185.125.190.81)] [Connected to cloud.r-project.org (3.161.136\r                                                                                                    \rHit:2 http://archive.ubuntu.com/ubuntu jammy-updates InRelease\n",
            "Hit:3 http://archive.ubuntu.com/ubuntu jammy-backports InRelease\n",
            "Hit:4 https://dl.google.com/linux/chrome/deb stable InRelease\n",
            "Hit:5 https://cloud.r-project.org/bin/linux/ubuntu jammy-cran40/ InRelease\n",
            "Hit:6 http://security.ubuntu.com/ubuntu jammy-security InRelease\n",
            "Hit:7 https://developer.download.nvidia.com/compute/cuda/repos/ubuntu2204/x86_64  InRelease\n",
            "Hit:8 https://r2u.stat.illinois.edu/ubuntu jammy InRelease\n",
            "Hit:9 https://ppa.launchpadcontent.net/deadsnakes/ppa/ubuntu jammy InRelease\n",
            "Hit:10 https://ppa.launchpadcontent.net/graphics-drivers/ppa/ubuntu jammy InRelease\n",
            "Hit:11 https://ppa.launchpadcontent.net/ubuntugis/ppa/ubuntu jammy InRelease\n",
            "Reading package lists... Done\n",
            "W: Skipping acquire of configured file 'main/source/Sources' as repository 'https://r2u.stat.illinois.edu/ubuntu jammy InRelease' does not seem to provide it (sources.list entry misspelt?)\n",
            "Reading package lists... Done\n",
            "Building dependency tree... Done\n",
            "Reading state information... Done\n",
            "chromium-chromedriver is already the newest version (1:85.0.4183.83-0ubuntu2.22.04.1).\n",
            "0 upgraded, 0 newly installed, 0 to remove and 49 not upgraded.\n",
            "cp: '/usr/lib/chromium-browser/chromedriver' and '/usr/bin/chromedriver' are the same file\n",
            "Requirement already satisfied: selenium in /usr/local/lib/python3.10/dist-packages (4.27.1)\n",
            "Requirement already satisfied: urllib3<3,>=1.26 in /usr/local/lib/python3.10/dist-packages (from urllib3[socks]<3,>=1.26->selenium) (2.2.3)\n",
            "Requirement already satisfied: trio~=0.17 in /usr/local/lib/python3.10/dist-packages (from selenium) (0.27.0)\n",
            "Requirement already satisfied: trio-websocket~=0.9 in /usr/local/lib/python3.10/dist-packages (from selenium) (0.11.1)\n",
            "Requirement already satisfied: certifi>=2021.10.8 in /usr/local/lib/python3.10/dist-packages (from selenium) (2024.12.14)\n",
            "Requirement already satisfied: typing_extensions~=4.9 in /usr/local/lib/python3.10/dist-packages (from selenium) (4.12.2)\n",
            "Requirement already satisfied: websocket-client~=1.8 in /usr/local/lib/python3.10/dist-packages (from selenium) (1.8.0)\n",
            "Requirement already satisfied: attrs>=23.2.0 in /usr/local/lib/python3.10/dist-packages (from trio~=0.17->selenium) (24.3.0)\n",
            "Requirement already satisfied: sortedcontainers in /usr/local/lib/python3.10/dist-packages (from trio~=0.17->selenium) (2.4.0)\n",
            "Requirement already satisfied: idna in /usr/local/lib/python3.10/dist-packages (from trio~=0.17->selenium) (3.10)\n",
            "Requirement already satisfied: outcome in /usr/local/lib/python3.10/dist-packages (from trio~=0.17->selenium) (1.3.0.post0)\n",
            "Requirement already satisfied: sniffio>=1.3.0 in /usr/local/lib/python3.10/dist-packages (from trio~=0.17->selenium) (1.3.1)\n",
            "Requirement already satisfied: exceptiongroup in /usr/local/lib/python3.10/dist-packages (from trio~=0.17->selenium) (1.2.2)\n",
            "Requirement already satisfied: wsproto>=0.14 in /usr/local/lib/python3.10/dist-packages (from trio-websocket~=0.9->selenium) (1.2.0)\n",
            "Requirement already satisfied: pysocks!=1.5.7,<2.0,>=1.5.6 in /usr/local/lib/python3.10/dist-packages (from urllib3[socks]<3,>=1.26->selenium) (1.7.1)\n",
            "Requirement already satisfied: h11<1,>=0.9.0 in /usr/local/lib/python3.10/dist-packages (from wsproto>=0.14->trio-websocket~=0.9->selenium) (0.14.0)\n"
          ]
        }
      ]
    },
    {
      "cell_type": "code",
      "source": [
        "from selenium.webdriver.chrome.service import Service\n",
        "from selenium.webdriver.chrome.options import Options\n",
        "from selenium.webdriver.common.by import By\n",
        "from selenium.webdriver.support.ui import WebDriverWait\n",
        "from selenium.webdriver.support import expected_conditions as EC\n",
        "from selenium.common.exceptions import TimeoutException, ElementNotInteractableException\n",
        "from webdriver_manager.chrome import ChromeDriverManager\n",
        "from selenium import webdriver\n",
        "import time\n",
        "\n",
        "# Setup Chrome WebDriver\n",
        "chrome_options = Options()\n",
        "chrome_options.add_argument(\"--headless\")  # Run in headless mode\n",
        "chrome_options.add_argument(\"--disable-gpu\")\n",
        "chrome_options.add_argument(\"--no-sandbox\")\n",
        "chrome_options.add_argument(\"--disable-dev-shm-usage\")\n",
        "\n",
        "# Start WebDriver\n",
        "driver = webdriver.Chrome(service=Service(ChromeDriverManager().install()), options=chrome_options)\n",
        "\n",
        "# Load the HTML file in the browser\n",
        "driver.get(\"file:///content/quadratic_solver.html\")  # Update with the correct file path\n",
        "\n",
        "# Wait instance\n",
        "wait = WebDriverWait(driver, 10)\n",
        "\n",
        "print(\"Starting tests for Quadratic Solver...\\n\")\n",
        "\n",
        "# Test 1: Hardcoded Input\n",
        "print(\"Test 1: Hardcoded Input\")\n",
        "try:\n",
        "    driver.find_element(By.XPATH, \"//input[@value='hardcoded']\").click()\n",
        "    driver.find_element(By.XPATH, \"//button[@onclick='solveEquation()']\").click()\n",
        "    time.sleep(2)\n",
        "    result = driver.find_element(By.ID, \"result\").text\n",
        "    print(f\"Result: {result}\\n\")\n",
        "except Exception as e:\n",
        "    print(f\"Test 1 failed: {str(e)}\\n\")\n",
        "\n",
        "# Test 2: Keyboard Input\n",
        "print(\"Test 2: Keyboard Input\")\n",
        "try:\n",
        "    driver.find_element(By.XPATH, \"//input[@value='keyboard']\").click()\n",
        "    wait.until(EC.visibility_of_element_located((By.ID, \"keyboardInputs\")))\n",
        "    driver.find_element(By.ID, \"a\").clear()\n",
        "    driver.find_element(By.ID, \"a\").send_keys(\"2\")\n",
        "    driver.find_element(By.ID, \"b\").clear()\n",
        "    driver.find_element(By.ID, \"b\").send_keys(\"-5\")\n",
        "    driver.find_element(By.ID, \"c\").clear()\n",
        "    driver.find_element(By.ID, \"c\").send_keys(\"3\")\n",
        "    driver.find_element(By.XPATH, \"//button[@onclick='solveEquation()']\").click()\n",
        "    time.sleep(2)\n",
        "    result = driver.find_element(By.ID, \"result\").text\n",
        "    print(f\"Result: {result}\\n\")\n",
        "except Exception as e:\n",
        "    print(f\"Test 2 failed: {str(e)}\\n\")\n",
        "\n",
        "# Test 3: File Input\n",
        "print(\"Test 3: File Input\")\n",
        "try:\n",
        "    driver.find_element(By.XPATH, \"//input[@value='file']\").click()\n",
        "    wait.until(EC.visibility_of_element_located((By.ID, \"fileInput\")))\n",
        "    file_input = driver.find_element(By.ID, \"file\")\n",
        "    file_input.send_keys(\"/content/coefficients.txt\")  # Update with the correct file path\n",
        "    time.sleep(1)\n",
        "    driver.find_element(By.XPATH, \"//button[@onclick='solveEquation()']\").click()\n",
        "    time.sleep(2)\n",
        "    result = driver.find_element(By.ID, \"result\").text\n",
        "    print(f\"Result: {result}\\n\")\n",
        "except Exception as e:\n",
        "    print(f\"Test 3 failed: {str(e)}\\n\")\n",
        "\n",
        "# Test 4: Single Input\n",
        "print(\"Test 4: Single Input\")\n",
        "try:\n",
        "    driver.find_element(By.XPATH, \"//input[@value='single']\").click()\n",
        "    wait.until(EC.visibility_of_element_located((By.ID, \"keyboardInputs\")))\n",
        "    driver.find_element(By.ID, \"a\").clear()\n",
        "    driver.find_element(By.ID, \"a\").send_keys(\"1\")\n",
        "    driver.find_element(By.ID, \"b\").clear()\n",
        "    driver.find_element(By.ID, \"b\").send_keys(\"2\")\n",
        "    driver.find_element(By.ID, \"c\").clear()\n",
        "    driver.find_element(By.ID, \"c\").send_keys(\"1\")\n",
        "    driver.find_element(By.XPATH, \"//button[@onclick='solveEquation()']\").click()\n",
        "    time.sleep(2)\n",
        "    result = driver.find_element(By.ID, \"result\").text\n",
        "    print(f\"Result: {result}\\n\")\n",
        "except Exception as e:\n",
        "    print(f\"Test 4 failed: {str(e)}\\n\")\n",
        "\n",
        "# Test 5: Multiple Input Sets\n",
        "print(\"Test 5: Multiple Input Sets\")\n",
        "try:\n",
        "    input_sets = [\n",
        "        (1, -3, 2),\n",
        "        (4, -7, 3),\n",
        "        (5, -1, 4),\n",
        "        (3, 6, 4),\n",
        "        (2, -4, 1)\n",
        "    ]\n",
        "\n",
        "    for i, (a, b, c) in enumerate(input_sets, start=1):\n",
        "        print(f\"\\nTest 5.{i}: a={a}, b={b}, c={c}\")\n",
        "\n",
        "        # Click the \"Multiple\" input option and wait for visibility\n",
        "        driver.find_element(By.XPATH, \"//input[@value='multiple']\").click()\n",
        "        wait.until(EC.visibility_of_element_located((By.ID, \"keyboardInputs\")))\n",
        "\n",
        "        # Enter coefficients\n",
        "        driver.find_element(By.ID, \"a\").clear()\n",
        "        driver.find_element(By.ID, \"a\").send_keys(str(a))\n",
        "        driver.find_element(By.ID, \"b\").clear()\n",
        "        driver.find_element(By.ID, \"b\").send_keys(str(b))\n",
        "        driver.find_element(By.ID, \"c\").clear()\n",
        "        driver.find_element(By.ID, \"c\").send_keys(str(c))\n",
        "\n",
        "        # Solve equation\n",
        "        driver.find_element(By.XPATH, \"//button[@onclick='solveEquation()']\").click()\n",
        "        time.sleep(2)\n",
        "\n",
        "        # Wait for result and fetch it\n",
        "        result = wait.until(EC.visibility_of_element_located((By.ID, \"result\"))).text\n",
        "        print(f\"Result: {result}\")\n",
        "\n",
        "        # Reset form if needed (check app behavior)\n",
        "        driver.refresh()\n",
        "        time.sleep(1)\n",
        "except Exception as e:\n",
        "    print(f\"Test 5 failed: {str(e)}\\n\")\n",
        "\n",
        "# Clean up\n",
        "driver.quit()\n",
        "print(\"\\nAll tests completed.\")\n"
      ],
      "metadata": {
        "colab": {
          "base_uri": "https://localhost:8080/"
        },
        "id": "bOGgMFj5ytkL",
        "outputId": "f05289c9-8df9-4271-b129-c7c323260f92"
      },
      "execution_count": 18,
      "outputs": [
        {
          "output_type": "stream",
          "name": "stdout",
          "text": [
            "Starting tests for Quadratic Solver...\n",
            "\n",
            "Test 1: Hardcoded Input\n",
            "Result: Hardcoded values: a=1, b=-3, c=2\n",
            "\n",
            "Test 2: Keyboard Input\n",
            "Result: a=2, b=-5, c=3\n",
            "\n",
            "Test 3: File Input\n",
            "Result: Set 1: a=4, b=-7, c=3\n",
            "Set 2: a=5, b=-1, c=4\n",
            "Set 3: a=3, b=6, c=4\n",
            "\n",
            "Test 4: Single Input\n",
            "Result: a=1, b=2, c=1\n",
            "\n",
            "Test 5: Multiple Input Sets\n",
            "\n",
            "Test 5.1: a=1, b=-3, c=2\n",
            "Test 5 failed: Message: \n",
            "\n",
            "\n",
            "\n",
            "All tests completed.\n"
          ]
        }
      ]
    },
    {
      "cell_type": "code",
      "source": [],
      "metadata": {
        "id": "_xK6mgNoy791"
      },
      "execution_count": null,
      "outputs": []
    }
  ]
}